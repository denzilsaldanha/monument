{
  "nbformat": 4,
  "nbformat_minor": 0,
  "metadata": {
    "colab": {
      "name": "RESNET.ipynb",
      "provenance": [],
      "collapsed_sections": [],
      "machine_shape": "hm",
      "include_colab_link": true
    },
    "kernelspec": {
      "name": "python3",
      "display_name": "Python 3"
    },
    "accelerator": "TPU"
  },
  "cells": [
    {
      "cell_type": "markdown",
      "metadata": {
        "id": "view-in-github",
        "colab_type": "text"
      },
      "source": [
        "<a href=\"https://colab.research.google.com/github/denzilsaldanha/monument/blob/master/RESNET.ipynb\" target=\"_parent\"><img src=\"https://colab.research.google.com/assets/colab-badge.svg\" alt=\"Open In Colab\"/></a>"
      ]
    },
    {
      "cell_type": "code",
      "metadata": {
        "id": "iVnDGzNNkoIU",
        "colab_type": "code",
        "outputId": "052cb4d0-b85e-4ee9-977a-7253a574ea02",
        "colab": {
          "base_uri": "https://localhost:8080/",
          "height": 121
        }
      },
      "source": [
        "from google.colab import drive\n",
        "drive.mount('/content/drive')"
      ],
      "execution_count": 0,
      "outputs": [
        {
          "output_type": "stream",
          "text": [
            "Go to this URL in a browser: https://accounts.google.com/o/oauth2/auth?client_id=947318989803-6bn6qk8qdgf4n4g3pfee6491hc0brc4i.apps.googleusercontent.com&redirect_uri=urn%3Aietf%3Awg%3Aoauth%3A2.0%3Aoob&scope=email%20https%3A%2F%2Fwww.googleapis.com%2Fauth%2Fdocs.test%20https%3A%2F%2Fwww.googleapis.com%2Fauth%2Fdrive%20https%3A%2F%2Fwww.googleapis.com%2Fauth%2Fdrive.photos.readonly%20https%3A%2F%2Fwww.googleapis.com%2Fauth%2Fpeopleapi.readonly&response_type=code\n",
            "\n",
            "Enter your authorization code:\n",
            "··········\n",
            "Mounted at /content/drive\n"
          ],
          "name": "stdout"
        }
      ]
    },
    {
      "cell_type": "code",
      "metadata": {
        "id": "Kmg95_wehHz7",
        "colab_type": "code",
        "colab": {}
      },
      "source": [
        "import pandas as pd\n",
        "import numpy as np\n",
        "import glob\n",
        "import os\n",
        "import keras\n",
        "import matplotlib.pyplot as plt\n",
        "from keras.layers import Dense,GlobalAveragePooling2D\n",
        "from keras.callbacks import ModelCheckpoint\n",
        "from keras.callbacks import CSVLogger\n",
        "from keras.applications import ResNet50\n",
        "from keras.applications.resnet50 import preprocess_input\n",
        "\n",
        "from keras.preprocessing import image\n",
        "from keras.layers import Dropout, Flatten, Dense, GlobalAveragePooling2D\n",
        "from keras import optimizers\n",
        "from keras.preprocessing.image import ImageDataGenerator\n",
        "from keras.models import Model\n",
        "from keras.optimizers import Adam\n",
        "\n",
        "\n",
        "\n",
        "\n",
        "base_model=ResNet50(weights='imagenet',include_top=False,input_shape=(224,224,3) )\n",
        "\n",
        "x=base_model.output\n",
        "\n",
        "# x = Flatten()(x)\n",
        "# x = Dense(1024, activation=\"relu\")(x)\n",
        "# x = Dropout(0.5)(x)\n",
        "# x = Dense(1024, activation=\"relu\")(x)\n",
        "# predictions = Dense(150, activation=\"softmax\")(x)\n",
        "x=GlobalAveragePooling2D()(x)\n",
        "x=Dense(1024,activation='relu')(x) #we add dense layers so that the model can learn more complex functions and classify for better results.\n",
        "# x=Dense(1024,activation='relu')(x) #dense layer 2\n",
        "# x=Dense(512,activation='relu')(x) #dense layer 3\n",
        "preds=Dense(150,activation='softmax')(x) #final layer with softmax activation\n",
        "\n",
        "\n",
        "# In[3]:\n",
        "\n",
        "\n",
        "model=Model(inputs=base_model.input,outputs=preds)\n",
        "#specify the inputs\n",
        "#specify the outputs\n",
        "#now a model has been created based on our architecture\n",
        "\n",
        "\n",
        "# In[4]:\n",
        "\n",
        "layers_to_be_trained = 0 \n",
        "for layer in model.layers[:158]:\n",
        "    layer.trainable=False\n",
        "for layer in model.layers[158:]:\n",
        "    layer.trainable=True\n",
        "    layers_to_be_trained +=1\n",
        "\n",
        "print(layers_to_be_trained)\n",
        "# In[5]:\n",
        "\n",
        "\n",
        "# train_datagen=ImageDataGenerator(preprocessing_function=preprocess_input) #included in our dependencies\n",
        "train_datagen = ImageDataGenerator(preprocessing_function=preprocess_input,validation_split=0.2)\n",
        "# train_generator=train_datagen.flow_from_directory('./train/', # this is where you specify the path to the main data folder\n",
        "#                                                  target_size=(224,224),\n",
        "#                                                  color_mode='rgb',\n",
        "#                                                  batch_size=32,\n",
        "#                                                  class_mode='categorical',\n",
        "#                                                  shuffle=True)\n",
        "\n",
        "\n",
        "training_set = train_datagen.flow_from_directory('drive/My Drive/GOOGLE_MONUMENT/train_sample_images',\n",
        "                                                 target_size = (224, 224),\n",
        "                                                 batch_size = 128,\n",
        "                                                 class_mode = 'categorical',\n",
        "                                                subset ='training')\n",
        "validation_set = train_datagen.flow_from_directory(\n",
        "    'drive/My Drive/GOOGLE_MONUMENT/train_sample_images', # same directory as training data\n",
        "    target_size=(224,224),\n",
        "    batch_size=128,\n",
        "    class_mode='categorical',\n",
        "    subset='validation')\n",
        "\n",
        "# In[33]:\n",
        "epochs_run = 0\n",
        "\n",
        "# if glob.glob('drive/My Drive/GOOGLE_MONUMENT/weights-improvement-resnet-[0-9][0-9]*'):\n",
        "#   weight_to_be_loaded = max(glob.glob('drive/My Drive/GOOGLE_MONUMENT/weights-improvement-resnet-[0-9][0-9]*'))\n",
        "#   model.load_weights(weight_to_be_loaded)\n",
        "#   epochs_run = int(weight_to_be_loaded[58:60])\n",
        "\n",
        "model.compile(optimizer='Adam',loss='categorical_crossentropy',metrics=['accuracy'])\n",
        "# Adam optimizer\n",
        "# loss function will be categorical cross entropy\n",
        "# evaluation metric will be accuracy\n",
        "\n",
        "\n",
        "csv_file = 'drive/My Drive/GOOGLE_MONUMENT/log_for_res_net1_starting_from_epoch_'+str(epochs_run)+'.csv'\n",
        "checkpoint=\"drive/My Drive/GOOGLE_MONUMENT/weights-improvement-resnet1-{epoch:02d}-{acc:.2f}.hdf5\"\n",
        "checkpoint = ModelCheckpoint(checkpoint, monitor='val_acc', verbose=1, mode='max')\n",
        "csv_logger = CSVLogger(csv_file, append=True, separator=';')\n",
        "callbacks_list = [csv_logger,checkpoint]\n",
        "\n",
        "#model.summary()\n",
        "step_size_train=training_set.n//training_set.batch_size\n",
        "val_steps = validation_set.n//validation_set.batch_size\n",
        "#print(val_steps)\n",
        "model.fit_generator(generator=training_set,\n",
        "                   steps_per_epoch=step_size_train,\n",
        "                   epochs=5,\n",
        "                    validation_data = validation_set,validation_steps=val_steps,\n",
        "                   callbacks =callbacks_list,initial_epoch = epochs_run)\n",
        "\n",
        "\n",
        "#print(\"%s: %.2f%%\" % (classifier.metrics_names[1], scores[1]*100))\n",
        "model.save('drive/My Drive/GOOGLE_MONUMENT/model_resnet1.hdf5')\n",
        "model.save_weights(\"drive/My Drive/GOOGLE_MONUMENT/model_h5_resnet1.h5\")\n",
        "print(\"Saved model to disk\") \n",
        "# serialize model to JSON\n",
        "model_json = model.to_json()\n",
        "with open(\"drive/My Drive/GOOGLE_MONUMENT/model_resnet1.json\", \"w\") as json_file:\n",
        "    json_file.write(model_json)\n",
        "\n",
        "\n"
      ],
      "execution_count": 0,
      "outputs": []
    },
    {
      "cell_type": "code",
      "metadata": {
        "id": "__uSA6-5kay_",
        "colab_type": "code",
        "colab": {}
      },
      "source": [
        ""
      ],
      "execution_count": 0,
      "outputs": []
    }
  ]
}